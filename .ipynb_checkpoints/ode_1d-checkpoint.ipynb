{
 "cells": [
  {
   "cell_type": "code",
   "execution_count": 16,
   "metadata": {
    "collapsed": false
   },
   "outputs": [],
   "source": [
    "%matplotlib inline \n",
    "from scipy.integrate import odeint\n",
    "import matplotlib.pyplot as plt\n",
    "import numpy as np"
   ]
  },
  {
   "cell_type": "code",
   "execution_count": 17,
   "metadata": {
    "collapsed": true
   },
   "outputs": [],
   "source": [
    "# A simple ode\n",
    "def ode(x,t):\n",
    "\n",
    "    # Put the main ode equation here\n",
    "    dx = np.square(x) - 2\n",
    "\n",
    "    return dx"
   ]
  },
  {
   "cell_type": "code",
   "execution_count": 18,
   "metadata": {
    "collapsed": false
   },
   "outputs": [],
   "source": [
    "ic = [1] # Initial condition\n",
    "times = np.arange(0, 10, .1) # Times\n",
    "orbit = odeint(ode, ic, times)\n",
    "orbit2 = odeint(ode, [-4], times) # a second orbit"
   ]
  },
  {
   "cell_type": "code",
   "execution_count": 32,
   "metadata": {
    "collapsed": false
   },
   "outputs": [
    {
     "data": {
      "text/plain": [
       "<matplotlib.text.Text at 0x116a9a208>"
      ]
     },
     "execution_count": 32,
     "metadata": {},
     "output_type": "execute_result"
    },
    {
     "data": {
      "image/png": "[encoded data removed]",
      "text/plain": [
       "<matplotlib.figure.Figure at 0x116cd36d8>"
      ]
     },
     "metadata": {},
     "output_type": "display_data"
    }
   ],
   "source": [
    "plt.plot(times, orbit[:,0]) # Plot the orbit\n",
    "plt.plot(times, orbit2[:,0], 'g') # Plot the second orbit\n",
    "plt.ylabel(\"x\")\n",
    "plt.xlabel(\"time\")"
   ]
  },
  {
   "cell_type": "code",
   "execution_count": 42,
   "metadata": {
    "collapsed": false
   },
   "outputs": [
    {
     "data": {
      "text/plain": [
       "<matplotlib.collections.PathCollection at 0x117246a58>"
      ]
     },
     "execution_count": 42,
     "metadata": {},
     "output_type": "execute_result"
    },
    {
     "data": {
      "image/png": "[encoded data removed]",
      "text/plain": [
       "<matplotlib.figure.Figure at 0x1167f5128>"
      ]
     },
     "metadata": {},
     "output_type": "display_data"
    }
   ],
   "source": [
    "# Projection to 1-d space\n",
    "plt.scatter(np.zeros(len(orbit)), orbit[:,0])\n",
    "plt.scatter(np.zeros(len(orbit2)), orbit2[:,0], color = 'g')\n",
    "# Horizontal\n",
    "# plt.scatter(orbit[:,0], np.zeros(len(orbit)), color = 'b')\n",
    "# plt.scatter(orbit2[:,0], np.zeros(len(orbit2)),color = 'g')"
   ]
  },
  {
   "cell_type": "code",
   "execution_count": 70,
   "metadata": {
    "collapsed": false
   },
   "outputs": [
    {
     "data": {
      "text/plain": [
       "[<matplotlib.lines.Line2D at 0x118fb3198>]"
      ]
     },
     "execution_count": 70,
     "metadata": {},
     "output_type": "execute_result"
    },
    {
     "data": {
      "image/png": "[encoded data removed]",
      "text/plain": [
       "<matplotlib.figure.Figure at 0x118d87358>"
      ]
     },
     "metadata": {},
     "output_type": "display_data"
    }
   ],
   "source": [
    "plt.subplot(1, 2, 1)\n",
    "plt.plot(times, orbit[:,0]) # Plot the orbit\n",
    "plt.plot(times, orbit2[:,0], 'g') # Plot the second orbit\n",
    "plt.ylabel(\"x\")\n",
    "plt.xlabel(\"time\")\n",
    "\n",
    "plt.subplot(1, 2, 2)\n",
    "plt.scatter(np.zeros(len(orbit)), orbit[:,0])\n",
    "plt.scatter(np.zeros(len(orbit2)), orbit2[:,0], color = 'g')\n",
    "plt.plot(0,orbit[-1], '.', color = 'red', ms = 10)"
   ]
  },
  {
   "cell_type": "code",
   "execution_count": null,
   "metadata": {
    "collapsed": true
   },
   "outputs": [],
   "source": []
  }
 ],
 "metadata": {
  "kernelspec": {
   "display_name": "Python 3",
   "language": "python",
   "name": "python3"
  },
  "language_info": {
   "codemirror_mode": {
    "name": "ipython",
    "version": 3
   },
   "file_extension": ".py",
   "mimetype": "text/x-python",
   "name": "python",
   "nbconvert_exporter": "python",
   "pygments_lexer": "ipython3",
   "version": "3.5.3"
  }
 },
 "nbformat": 4,
 "nbformat_minor": 0
}
