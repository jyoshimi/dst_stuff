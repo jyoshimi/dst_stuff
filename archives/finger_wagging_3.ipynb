{
 "cells": [
  {
   "cell_type": "code",
   "execution_count": 16,
   "metadata": {
    "collapsed": false
   },
   "outputs": [],
   "source": [
    "%matplotlib inline \n",
    "from scipy.integrate import odeint\n",
    "import matplotlib.pyplot as plt\n",
    "import numpy as np\n",
    "import math"
   ]
  },
  {
   "cell_type": "code",
   "execution_count": 23,
   "metadata": {
    "collapsed": true
   },
   "outputs": [],
   "source": [
    "r1_tilde = 3  # Version of r1 r2 to get a nice projection\n",
    "r2_tilde = 1\n",
    "r1\n",
    "r2\n",
    "\n",
    "# 4d system\n",
    "def ode(state,t):\n",
    "    x1 = state[0]\n",
    "    y1 = state[1]\n",
    "    x2 = state[2]\n",
    "    y2 = state[3]\n",
    "    \n",
    "\n",
    "    x1 = 1\n",
    "    y1 = 1\n",
    "    x2 = 1\n",
    "    y2 = 1\n",
    "    \n",
    "    # Return the state derivatives\n",
    "    return [x1,y1,x1,y2]"
   ]
  },
  {
   "cell_type": "code",
   "execution_count": 44,
   "metadata": {
    "collapsed": false
   },
   "outputs": [],
   "source": [
    "times = np.arange(0, 10, .1) # Times\n",
    "ic = [1/2 * math.pi] # Initial condition for first orbit\n",
    "ic2 = [-5/6 * math.pi]\n",
    "orbit = odeint(ode, ic, times)\n",
    "orbit2 = odeint(ode, ic2, times) # Second orbit"
   ]
  },
  {
   "cell_type": "code",
   "execution_count": 45,
   "metadata": {
    "collapsed": false
   },
   "outputs": [
    {
     "data": {
      "image/png": "[encoded data removed]",
      "text/plain": [
       "<matplotlib.figure.Figure at 0x11dc7fb00>"
      ]
     },
     "metadata": {},
     "output_type": "display_data"
    }
   ],
   "source": [
    "t = np.arange(0, 10, .01) # Times\n",
    "percent = 0\n",
    "trunc = int(np.floor(t.size*percent))\n",
    "fig = plt.figure()\n",
    "ax = Axes3D(fig)\n",
    "\n",
    "ic = [4,5,5,3]\n",
    "orbit = odeint(ode, ic, t) ### Run the system  \n",
    "ax.scatter(orbit[0,0],orbit[0,1],orbit[0,2], c=\"green\",s=30)"
   ]
  },
  {
   "cell_type": "code",
   "execution_count": 46,
   "metadata": {
    "collapsed": false
   },
   "outputs": [
    {
     "data": {
      "text/plain": [
       "[<matplotlib.lines.Line2D at 0x11dd7b390>]"
      ]
     },
     "execution_count": 46,
     "metadata": {},
     "output_type": "execute_result"
    },
    {
     "data": {
      "image/png": "[encoded data removed]",
      "text/plain": [
       "<matplotlib.figure.Figure at 0x11dd7b2b0>"
      ]
     },
     "metadata": {},
     "output_type": "display_data"
    }
   ],
   "source": [
    "circle = np.linspace(-math.pi,math.pi,360)\n",
    "plt.plot(np.cos(circle),np.sin(circle),'k')\n",
    "plt.axis('equal')\n",
    "plt.plot(np.cos(orbit), np.sin(orbit),'b.')\n",
    "plt.plot(np.cos(orbit2), np.sin(orbit2),'g.')"
   ]
  },
  {
   "cell_type": "code",
   "execution_count": null,
   "metadata": {
    "collapsed": true
   },
   "outputs": [],
   "source": []
  }
 ],
 "metadata": {
  "kernelspec": {
   "display_name": "Python 3",
   "language": "python",
   "name": "python3"
  },
  "language_info": {
   "codemirror_mode": {
    "name": "ipython",
    "version": 3
   },
   "file_extension": ".py",
   "mimetype": "text/x-python",
   "name": "python",
   "nbconvert_exporter": "python",
   "pygments_lexer": "ipython3",
   "version": "3.5.3"
  }
 },
 "nbformat": 4,
 "nbformat_minor": 0
}
