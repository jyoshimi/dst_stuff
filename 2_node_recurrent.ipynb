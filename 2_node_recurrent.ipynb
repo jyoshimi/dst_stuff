{
 "cells": [
  {
   "cell_type": "code",
   "execution_count": 199,
   "metadata": {
    "collapsed": false
   },
   "outputs": [],
   "source": [
    "%matplotlib inline\n",
    "import matplotlib.pyplot as plt\n",
    "import matplotlib\n",
    "import numpy as np\n",
    "import math\n",
    "import itertools"
   ]
  },
  {
   "cell_type": "code",
   "execution_count": 200,
   "metadata": {
    "collapsed": true
   },
   "outputs": [],
   "source": [
    "#\n",
    "# The piecewise linear activation function that clips weighted input. \n",
    "# A scalar function (numbers in, numbers out)\n",
    "#\n",
    "# input: weighted input \n",
    "# output: activation\n",
    "#\n",
    "def piecewise_linear(weighted_input):\n",
    "    u = 10\n",
    "    l = -10\n",
    "    if(weighted_input > u):\n",
    "        return u\n",
    "    elif(weighted_input < l):\n",
    "        return l\n",
    "    else:\n",
    "        return weighted_input        "
   ]
  },
  {
   "cell_type": "code",
   "execution_count": 220,
   "metadata": {
    "collapsed": true
   },
   "outputs": [],
   "source": [
    "#\n",
    "# Threshold activation function\n",
    "#\n",
    "def threshold(weighted_input):\n",
    "    u = 10\n",
    "    l = -10\n",
    "    theta = 0\n",
    "    if(weighted_input > theta):\n",
    "        return u\n",
    "    else:\n",
    "        return l       "
   ]
  },
  {
   "cell_type": "code",
   "execution_count": 228,
   "metadata": {
    "collapsed": true
   },
   "outputs": [],
   "source": [
    "#\n",
    "# A function that corresponds to a 2 node, fully connected recurrent network\n",
    "# \n",
    "# This is a function on vectors;a function from one activation vector to another. \n",
    "# It is also a rule that defines a dynamical system.  A way to go from an initial point\n",
    "# in state space to a future point.  You can edit which activation function is used\n",
    "# if you like.\n",
    "# \n",
    "# input: current activation vector \n",
    "# output: activation vector after processing by the network\n",
    "# \n",
    "#\n",
    "def recurrent_net(activation_vector):\n",
    "    weighted_inputs = activation_vector.dot(weight_matrix)\n",
    "    act_function = np.vectorize(piecewise_linear)\n",
    "    # act_function = np.vectorize(threshold)\n",
    "    return act_function(weighted_inputs)"
   ]
  },
  {
   "cell_type": "code",
   "execution_count": 229,
   "metadata": {
    "collapsed": false
   },
   "outputs": [],
   "source": [
    "# \n",
    "# EDIT WEIGHT MATRIX HERE\n",
    "#\n",
    "# Weight matrix for the network, which defines a dynamical system on a 2-dimensional\n",
    "# activation space\n",
    "\n",
    "# Rotation\n",
    "# angle = math.pi/12\n",
    "# weight_matrix = np.array([[math.cos(angle),-math.sin(angle)],[math.sin(angle),math.cos(angle)]])\n",
    "\n",
    "# Stretching by k\n",
    "# k = -2.4 # -1, 10\n",
    "# weight_matrix = np.array([[k,0],[0,1]])\n",
    "\n",
    "# Identity\n",
    "# weight_matrix = np.array([[1,0],[0,1]])\n",
    "\n",
    "# Other examples\n",
    "# weight_matrix = np.array([[-1,1],[-1.1,-.1]])\n",
    "# weight_matrix = np.array([[1,.5],[-.5,0]]) # One fixed point attractor\n",
    "weight_matrix = np.array([[-1,1],[-1.1,-.1]])"
   ]
  },
  {
   "cell_type": "code",
   "execution_count": 230,
   "metadata": {
    "collapsed": false
   },
   "outputs": [],
   "source": [
    "#\n",
    "# Print eigenvalues (optional), which helps understand the dynamics of the\n",
    "# underlying linear system (which gets clipped by the piecewise linear activation function)\n",
    "#\n",
    "# See: http://www.cnbc.cmu.edu/~bard/xppfast/lin2d.html\n",
    "#\n",
    "# eigenvalues = np.linalg.eigvals(weight_matrix)\n",
    "# print(eigenvalues)"
   ]
  },
  {
   "cell_type": "code",
   "execution_count": 231,
   "metadata": {
    "collapsed": false
   },
   "outputs": [],
   "source": [
    "#\n",
    "# EDIT INITIAL CONDITIONS HERE\n",
    "#\n",
    "\n",
    "# A list of initial conditions to test.  Orbits arising from these initial conditions \n",
    "# will then be plotted.\n",
    "#\n",
    "init_conditions = [np.array([.5,.5])] # A single initial condition. You can change the numbers!\n",
    "# init_conditions = [np.array([.5,.5]),np.array([.5,.56])] # Initial condition with perturbation to test for attractors\n",
    "# init_conditions = [np.array([.5,.5]), np.array([-.5,-.5])] # A list of initial conditions\n",
    "# grid = np.array(list(itertools.product([.1,.4,1,5], repeat=2)))\n",
    "# grid = np.array(list(itertools.product([1,2,3,4,5,-1,-2,-3,-4,-5], repeat=2)))\n",
    "# init_conditions = grid"
   ]
  },
  {
   "cell_type": "code",
   "execution_count": 232,
   "metadata": {
    "collapsed": false
   },
   "outputs": [
    {
     "data": {
      "image/png": "[encoded data removed]",
      "text/plain": [
       "<matplotlib.figure.Figure at 0x11a97b4e0>"
      ]
     },
     "metadata": {},
     "output_type": "display_data"
    }
   ],
   "source": [
    "#\n",
    "# Plot orbits given initial conditions and weights\n",
    "# \n",
    "for ic in init_conditions:\n",
    "    orbit_length = 100  # EDIT: You can set how long the orbit to display is here\n",
    "    orbit = np.zeros((orbit_length,2))\n",
    "    orbit[0] = ic\n",
    "    plt.scatter(ic[0],ic[1], c=\"yellow\", s=100) # Plot initial conditions\n",
    "    for i in range(1,orbit_length):\n",
    "        orbit[i] = recurrent_net(orbit[i-1])\n",
    "    plt.plot(orbit[:,0],orbit[:,1],'.-',alpha = .2, color = 'blue')\n",
    "fig = matplotlib.pyplot.gcf()\n",
    "fig.set_size_inches(5.5, 5.5) # Set plot size here\n",
    "# fig.savefig('phase_portrait.png') # Use this to save an image instead of taking a screenshot"
   ]
  },
  {
   "cell_type": "code",
   "execution_count": 233,
   "metadata": {
    "collapsed": false
   },
   "outputs": [],
   "source": [
    "# \n",
    "# Function to print orbits relative to initial condition\n",
    "#\n",
    "def print_orbit(init_condition):\n",
    "    print(\"init condition:\",init_condition)\n",
    "    orbit_length = 40 # EDIT: Set how long to show orbits for here\n",
    "    orbit = np.zeros((orbit_length,2))\n",
    "    orbit[0] = init_condition\n",
    "    for i in range(1,orbit_length):\n",
    "        orbit[i] = recurrent_net(orbit[i-1])\n",
    "        print(np.round(orbit[i],5))\n",
    "    print(\"-----------\")"
   ]
  },
  {
   "cell_type": "code",
   "execution_count": 234,
   "metadata": {
    "collapsed": false
   },
   "outputs": [
    {
     "name": "stdout",
     "output_type": "stream",
     "text": [
      "init condition: [ 0.5  0.5]\n",
      "[-1.05  0.45]\n",
      "[ 0.555 -1.095]\n",
      "[ 0.6495  0.6645]\n",
      "[-1.38045  0.58305]\n",
      "[ 0.7391  -1.43876]\n",
      "[ 0.84354  0.88297]\n",
      "[-1.8148   0.75524]\n",
      "[ 0.98404 -1.89033]\n",
      "[ 1.09532  1.17307]\n",
      "[-2.3857   0.97801]\n",
      "[ 1.30989 -2.4835 ]\n",
      "[ 1.42196  1.55824]\n",
      "[-3.13602  1.26614]\n",
      "[ 1.74327 -3.26264]\n",
      "[ 1.84563  2.06953]\n",
      "[-4.12212  1.63868]\n",
      "[ 2.31957 -4.28599]\n",
      "[ 2.39501  2.74817]\n",
      "[-5.418   2.1202]\n",
      "[ 3.08579 -5.63002]\n",
      "[ 3.10724  3.64879]\n",
      "[-7.12091  2.74236]\n",
      "[ 4.10431 -7.39514]\n",
      "[ 4.03034  4.84383]\n",
      "[-9.35855  3.54596]\n",
      "[ 5.45799 -9.71315]\n",
      "[ 5.22647  6.42931]\n",
      "[-10.   4.]\n",
      "[  5.6 -10. ]\n",
      "[ 5.4  6.6]\n",
      "[-10.   4.]\n",
      "[  5.6 -10. ]\n",
      "[ 5.4  6.6]\n",
      "[-10.   4.]\n",
      "[  5.6 -10. ]\n",
      "[ 5.4  6.6]\n",
      "[-10.   4.]\n",
      "[  5.6 -10. ]\n",
      "[ 5.4  6.6]\n",
      "-----------\n"
     ]
    }
   ],
   "source": [
    "#\n",
    "# Print orbits for each initial condition\n",
    "#\n",
    "for ic in init_conditions:\n",
    "    print_orbit(ic)"
   ]
  },
  {
   "cell_type": "code",
   "execution_count": null,
   "metadata": {
    "collapsed": true
   },
   "outputs": [],
   "source": []
  },
  {
   "cell_type": "code",
   "execution_count": null,
   "metadata": {
    "collapsed": true
   },
   "outputs": [],
   "source": []
  }
 ],
 "metadata": {
  "kernelspec": {
   "display_name": "Python 3",
   "language": "python",
   "name": "python3"
  },
  "language_info": {
   "codemirror_mode": {
    "name": "ipython",
    "version": 3
   },
   "file_extension": ".py",
   "mimetype": "text/x-python",
   "name": "python",
   "nbconvert_exporter": "python",
   "pygments_lexer": "ipython3",
   "version": "3.5.3"
  }
 },
 "nbformat": 4,
 "nbformat_minor": 0
}
