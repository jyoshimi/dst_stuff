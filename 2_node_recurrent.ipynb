{
 "cells": [
  {
   "cell_type": "code",
   "execution_count": 54,
   "metadata": {
    "collapsed": false
   },
   "outputs": [],
   "source": [
    "%matplotlib inline\n",
    "import matplotlib.pyplot as plt\n",
    "import matplotlib\n",
    "import numpy as np\n",
    "import math\n",
    "import itertools"
   ]
  },
  {
   "cell_type": "code",
   "execution_count": 55,
   "metadata": {
    "collapsed": true
   },
   "outputs": [],
   "source": [
    "#\n",
    "# The piecewise linear activation function that clips weighted input. \n",
    "# A scalar function (numbers in, numbers out)\n",
    "#\n",
    "# input: weighted input \n",
    "# output: activation\n",
    "#\n",
    "def piecewise_linear(weighted_input):\n",
    "    u = 10\n",
    "    l = -10\n",
    "    if(weighted_input > u):\n",
    "        return u\n",
    "    elif(weighted_input < l):\n",
    "        return l\n",
    "    else:\n",
    "        return weighted_input        "
   ]
  },
  {
   "cell_type": "code",
   "execution_count": 91,
   "metadata": {
    "collapsed": true
   },
   "outputs": [],
   "source": [
    "#\n",
    "# Alternative activation function that gradually evolves towards the weighted input\n",
    "#\n",
    "def integrator(weighted_input):\n",
    "    return piecewise_linear(weighted_input - .01 * weighted_input)"
   ]
  },
  {
   "cell_type": "code",
   "execution_count": 92,
   "metadata": {
    "collapsed": true
   },
   "outputs": [],
   "source": [
    "#\n",
    "# A function that corresponds to a 2 node, fully connected recurrent network\n",
    "# \n",
    "# This is a function on vectors;a function from one activation vector to another. \n",
    "# It is also a rule that defines a dynamical system.  A way to go from an initial point\n",
    "# in state space to a future point.  You can edit which activation function is used\n",
    "# if you like.\n",
    "# \n",
    "# input: current activation vector \n",
    "# output: activation vector after processing by the network\n",
    "# \n",
    "#\n",
    "def recurrent_net(activation_vector):\n",
    "    weighted_inputs = activation_vector.dot(weight_matrix)\n",
    "    # act_function = np.vectorize(piecewise_linear)\n",
    "    act_function = np.vectorize(integrator)\n",
    "    return act_function(weighted_inputs)"
   ]
  },
  {
   "cell_type": "code",
   "execution_count": 138,
   "metadata": {
    "collapsed": false
   },
   "outputs": [],
   "source": [
    "# \n",
    "# EDIT WEIGHT MATRIX HERE\n",
    "#\n",
    "# Weight matrix for the network, which defines a dynamical system on a 2-dimensional\n",
    "# activation space\n",
    "\n",
    "# Rotation\n",
    "# angle = math.pi/12\n",
    "# weight_matrix = np.array([[math.cos(angle),-math.sin(angle)],[math.sin(angle),math.cos(angle)]])\n",
    "\n",
    "# Stretching by k\n",
    "# k = -2.4 # -1, 10\n",
    "# weight_matrix = np.array([[k,0],[0,1]])\n",
    "\n",
    "# Identity\n",
    "# weight_matrix = np.array([[1,0],[0,1]])\n",
    "\n",
    "# Other examples\n",
    "weight_matrix = np.array([[-1,1],[-1.1,-.1]])\n",
    "# weight_matrix = np.array([[0,1],[1,0]])"
   ]
  },
  {
   "cell_type": "code",
   "execution_count": 139,
   "metadata": {
    "collapsed": false
   },
   "outputs": [
    {
     "name": "stdout",
     "output_type": "stream",
     "text": [
      "[-0.55+0.94736477j -0.55-0.94736477j]\n"
     ]
    }
   ],
   "source": [
    "#\n",
    "# Print eigenvalues (optional)\n",
    "#\n",
    "# Cf http://www.cnbc.cmu.edu/~bard/xppfast/lin2d.html\n",
    "# eigenvalues = np.linalg.eigvals(weight_matrix)\n",
    "# print(eigenvalues)"
   ]
  },
  {
   "cell_type": "code",
   "execution_count": 140,
   "metadata": {
    "collapsed": false
   },
   "outputs": [],
   "source": [
    "#\n",
    "# EDIT INITIAL CONDITIONS HERE\n",
    "#\n",
    "\n",
    "# A list of initial conditions to test.  Orbits arising from these initial conditions \n",
    "# will then be plotted.\n",
    "#\n",
    "init_conditions = [np.array([.5,.5])] # A single initial condition\n",
    "# init_conditions = [np.array([.5,.5]),np.array([.5,.56])] # Initial condition with perturbation to test for attractors\n",
    "# init_conditions = [np.array([.5,.5]), np.array([-.5,-.5])] # A list of initial conditions\n",
    "# grid = np.array(list(itertools.product([.1,.4,1,5], repeat=2)))\n",
    "# grid = np.array(list(itertools.product([1,2,3,4,5,-1,-2,-3,-4,-5], repeat=2)))\n",
    "# init_conditions = grid"
   ]
  },
  {
   "cell_type": "code",
   "execution_count": 141,
   "metadata": {
    "collapsed": false
   },
   "outputs": [
    {
     "data": {
      "image/png": "[encoded data removed]",
      "text/plain": [
       "<matplotlib.figure.Figure at 0x11a97da90>"
      ]
     },
     "metadata": {},
     "output_type": "display_data"
    }
   ],
   "source": [
    "#\n",
    "# Plot orbits given initial conditions and weights\n",
    "# \n",
    "for ic in init_conditions:\n",
    "    orbit_length = 100  # EDIT: Set how long the orbit is here\n",
    "    orbit = np.zeros((orbit_length,2))\n",
    "    orbit[0] = ic\n",
    "    plt.scatter(ic[0],ic[1], c=\"yellow\", s=100) # Plot initial conditions\n",
    "    for i in range(1,orbit_length):\n",
    "        orbit[i] = recurrent_net(orbit[i-1])\n",
    "    plt.plot(orbit[:,0],orbit[:,1],'.-',alpha = .2, color = 'blue')\n",
    "fig = matplotlib.pyplot.gcf()\n",
    "fig.set_size_inches(5.5, 5.5) # Set plot size here\n",
    "fig.savefig('phase_portrait.png')"
   ]
  },
  {
   "cell_type": "code",
   "execution_count": 142,
   "metadata": {
    "collapsed": false
   },
   "outputs": [],
   "source": [
    "# \n",
    "# Function to print orbits relative to initial condition\n",
    "#\n",
    "def print_orbit(init_condition):\n",
    "    print(\"init condition:\",init_condition)\n",
    "    orbit_length = 100 # EDIT: Set how long to show orbits for here\n",
    "    orbit = np.zeros((orbit_length,2))\n",
    "    orbit[0] = init_condition\n",
    "    for i in range(1,orbit_length):\n",
    "        orbit[i] = recurrent_net(orbit[i-1])\n",
    "        print(np.round(orbit[i],5))\n",
    "    print(\"-----------\")"
   ]
  },
  {
   "cell_type": "code",
   "execution_count": 143,
   "metadata": {
    "collapsed": false
   },
   "outputs": [
    {
     "name": "stdout",
     "output_type": "stream",
     "text": [
      "init condition: [ 0.5  0.5]\n",
      "[-1.0395  0.4455]\n",
      "[ 0.54396 -1.07321]\n",
      "[ 0.63021  0.64476]\n",
      "[-1.32605  0.56008]\n",
      "[ 0.70287 -1.36824]\n",
      "[ 0.79417  0.8313 ]\n",
      "[-1.69152  0.70393]\n",
      "[ 0.90802 -1.74429]\n",
      "[ 1.00059  1.07162]\n",
      "[-2.15758  0.8845 ]\n",
      "[ 1.17279 -2.22357]\n",
      "[ 1.26041  1.3812 ]\n",
      "[-2.75193  1.11106]\n",
      "[ 1.51446 -2.8344 ]\n",
      "[ 1.58735  1.77992]\n",
      "[-3.50981  1.39527]\n",
      "[ 1.95527 -3.61284]\n",
      "[ 1.99867  2.29339]\n",
      "[-4.47618  1.75164]\n",
      "[ 2.52389 -4.60483]\n",
      "[ 2.51602  2.95453]\n",
      "[-5.70834  2.19836]\n",
      "[ 3.25724 -5.86889]\n",
      "[ 3.16655  3.80569]\n",
      "[-7.27928  2.75812]\n",
      "[ 4.20289 -7.47954]\n",
      "[ 3.98436  4.90134]\n",
      "[-9.28207  3.45928]\n",
      "[ 5.42209 -9.53172]\n",
      "[ 5.01217  6.31151]\n",
      "[-10.   4.]\n",
      "[  5.544 -10.   ]\n",
      "[ 5.40144  6.47856]\n",
      "[-10.   4.]\n",
      "[  5.544 -10.   ]\n",
      "[ 5.40144  6.47856]\n",
      "[-10.   4.]\n",
      "[  5.544 -10.   ]\n",
      "[ 5.40144  6.47856]\n",
      "[-10.   4.]\n",
      "[  5.544 -10.   ]\n",
      "[ 5.40144  6.47856]\n",
      "[-10.   4.]\n",
      "[  5.544 -10.   ]\n",
      "[ 5.40144  6.47856]\n",
      "[-10.   4.]\n",
      "[  5.544 -10.   ]\n",
      "[ 5.40144  6.47856]\n",
      "[-10.   4.]\n",
      "[  5.544 -10.   ]\n",
      "[ 5.40144  6.47856]\n",
      "[-10.   4.]\n",
      "[  5.544 -10.   ]\n",
      "[ 5.40144  6.47856]\n",
      "[-10.   4.]\n",
      "[  5.544 -10.   ]\n",
      "[ 5.40144  6.47856]\n",
      "[-10.   4.]\n",
      "[  5.544 -10.   ]\n",
      "[ 5.40144  6.47856]\n",
      "[-10.   4.]\n",
      "[  5.544 -10.   ]\n",
      "[ 5.40144  6.47856]\n",
      "[-10.   4.]\n",
      "[  5.544 -10.   ]\n",
      "[ 5.40144  6.47856]\n",
      "[-10.   4.]\n",
      "[  5.544 -10.   ]\n",
      "[ 5.40144  6.47856]\n",
      "[-10.   4.]\n",
      "[  5.544 -10.   ]\n",
      "[ 5.40144  6.47856]\n",
      "[-10.   4.]\n",
      "[  5.544 -10.   ]\n",
      "[ 5.40144  6.47856]\n",
      "[-10.   4.]\n",
      "[  5.544 -10.   ]\n",
      "[ 5.40144  6.47856]\n",
      "[-10.   4.]\n",
      "[  5.544 -10.   ]\n",
      "[ 5.40144  6.47856]\n",
      "[-10.   4.]\n",
      "[  5.544 -10.   ]\n",
      "[ 5.40144  6.47856]\n",
      "[-10.   4.]\n",
      "[  5.544 -10.   ]\n",
      "[ 5.40144  6.47856]\n",
      "[-10.   4.]\n",
      "[  5.544 -10.   ]\n",
      "[ 5.40144  6.47856]\n",
      "[-10.   4.]\n",
      "[  5.544 -10.   ]\n",
      "[ 5.40144  6.47856]\n",
      "[-10.   4.]\n",
      "[  5.544 -10.   ]\n",
      "[ 5.40144  6.47856]\n",
      "[-10.   4.]\n",
      "[  5.544 -10.   ]\n",
      "[ 5.40144  6.47856]\n",
      "-----------\n"
     ]
    }
   ],
   "source": [
    "#\n",
    "# Print orbits for each initial condition\n",
    "#\n",
    "for ic in init_conditions:\n",
    "    print_orbit(ic)"
   ]
  },
  {
   "cell_type": "code",
   "execution_count": null,
   "metadata": {
    "collapsed": true
   },
   "outputs": [],
   "source": []
  }
 ],
 "metadata": {
  "kernelspec": {
   "display_name": "Python 3",
   "language": "python",
   "name": "python3"
  },
  "language_info": {
   "codemirror_mode": {
    "name": "ipython",
    "version": 3
   },
   "file_extension": ".py",
   "mimetype": "text/x-python",
   "name": "python",
   "nbconvert_exporter": "python",
   "pygments_lexer": "ipython3",
   "version": "3.5.3"
  }
 },
 "nbformat": 4,
 "nbformat_minor": 0
}
